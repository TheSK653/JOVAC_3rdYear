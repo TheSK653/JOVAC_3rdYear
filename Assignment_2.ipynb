{
 "cells": [
  {
   "cell_type": "code",
   "execution_count": 1,
   "id": "469e842c",
   "metadata": {},
   "outputs": [
    {
     "name": "stdout",
     "output_type": "stream",
     "text": [
      "1D Array:\n",
      " [ 1  2  3  4  5  6  7  8  9 10]\n",
      "\n",
      "2D Array:\n",
      " [[1 2 3]\n",
      " [4 5 6]\n",
      " [7 8 9]]\n",
      "\n",
      "3D Array:\n",
      " [[[0.06759976 0.1017204  0.46742134]\n",
      "  [0.75925852 0.86141366 0.77173791]\n",
      "  [0.88763414 0.3904526  0.6522061 ]\n",
      "  [0.88484217 0.3734677  0.84196078]\n",
      "  [0.70380186 0.98961763 0.36528447]]\n",
      "\n",
      " [[0.40287726 0.26486721 0.59108711]\n",
      "  [0.80869486 0.14036235 0.76003382]\n",
      "  [0.86400762 0.06369278 0.21337172]\n",
      "  [0.49082387 0.99932271 0.52421226]\n",
      "  [0.3047907  0.95139008 0.03644613]]\n",
      "\n",
      " [[0.35359072 0.72368925 0.39910284]\n",
      "  [0.52872144 0.80083448 0.06581753]\n",
      "  [0.45290242 0.23554115 0.73343026]\n",
      "  [0.78017155 0.22858084 0.56981134]\n",
      "  [0.28698158 0.87671494 0.10799764]]]\n",
      "\n",
      "1D - Shape: (10,) Size: 10 Dtype: int64\n",
      "2D - Shape: (3, 3) Size: 9 Dtype: int64\n",
      "3D - Shape: (3, 5, 3) Size: 45 Dtype: float64\n"
     ]
    }
   ],
   "source": [
    "# task 1\n",
    "\n",
    "import numpy as np\n",
    "array_1d = np.arange(1, 11)\n",
    "print(\"1D Array:\\n\", array_1d)\n",
    "array_2d = np.arange(1, 10).reshape(3, 3)\n",
    "print(\"\\n2D Array:\\n\", array_2d)\n",
    "array_3d = np.random.rand(3, 5, 3)\n",
    "print(\"\\n3D Array:\\n\", array_3d)\n",
    "print(\"\\n1D - Shape:\", array_1d.shape, \"Size:\", array_1d.size, \"Dtype:\", array_1d.dtype)\n",
    "print(\"2D - Shape:\", array_2d.shape, \"Size:\", array_2d.size, \"Dtype:\", array_2d.dtype)\n",
    "print(\"3D - Shape:\", array_3d.shape, \"Size:\", array_3d.size, \"Dtype:\", array_3d.dtype)"
   ]
  },
  {
   "cell_type": "code",
   "execution_count": 2,
   "id": "97eb10a5",
   "metadata": {},
   "outputs": [
    {
     "name": "stdout",
     "output_type": "stream",
     "text": [
      "1D Array:\n",
      " [ 1  2  3  4  5  6  7  8  9 10]\n",
      "\n",
      "2D Array:\n",
      " [[1 2 3]\n",
      " [4 5 6]\n",
      " [7 8 9]]\n",
      "\n",
      "3D Array:\n",
      " [[[0.26687669 0.65043288 0.46646929]\n",
      "  [0.94250007 0.21119282 0.19210867]\n",
      "  [0.61830278 0.21822773 0.8632184 ]\n",
      "  [0.56582182 0.90153654 0.76129531]\n",
      "  [0.33367498 0.5149415  0.75904698]]\n",
      "\n",
      " [[0.05639513 0.62686813 0.93472565]\n",
      "  [0.8468493  0.50906213 0.38465481]\n",
      "  [0.56432151 0.14124996 0.18317977]\n",
      "  [0.20407468 0.89643    0.69797593]\n",
      "  [0.33035865 0.54052192 0.78842222]]\n",
      "\n",
      " [[0.38558043 0.05006705 0.5843689 ]\n",
      "  [0.03745299 0.00640611 0.48969326]\n",
      "  [0.85912453 0.00214048 0.07458573]\n",
      "  [0.36335103 0.77435897 0.45170119]\n",
      "  [0.4515714  0.78112266 0.74632754]]]\n",
      "\n",
      "1D - Shape: (10,) Size: 10 Dtype: int64\n",
      "2D - Shape: (3, 3) Size: 9 Dtype: int64\n",
      "3D - Shape: (3, 5, 3) Size: 45 Dtype: float64\n"
     ]
    }
   ],
   "source": [
    "# task 2\n",
    "\n",
    "import numpy as np\n",
    "array_1d = np.arange(1, 11)\n",
    "print(\"1D Array:\\n\", array_1d)\n",
    "array_2d = np.arange(1, 10).reshape(3, 3)\n",
    "print(\"\\n2D Array:\\n\", array_2d)\n",
    "array_3d = np.random.rand(3, 5, 3)\n",
    "print(\"\\n3D Array:\\n\", array_3d)\n",
    "print(\"\\n1D - Shape:\", array_1d.shape, \"Size:\", array_1d.size, \"Dtype:\", array_1d.dtype)\n",
    "print(\"2D - Shape:\", array_2d.shape, \"Size:\", array_2d.size, \"Dtype:\", array_2d.dtype)\n",
    "print(\"3D - Shape:\", array_3d.shape, \"Size:\", array_3d.size, \"Dtype:\", array_3d.dtype)"
   ]
  },
  {
   "cell_type": "code",
   "execution_count": 3,
   "id": "7a1adade",
   "metadata": {},
   "outputs": [
    {
     "name": "stdout",
     "output_type": "stream",
     "text": [
      "Array A: [14  2 19 15 17]\n",
      "Array B: [16  2 18  6  4]\n",
      "Addition: [30  4 37 21 21]\n",
      "Subtraction: [-2  0  1  9 13]\n",
      "Multiplication: [224   4 342  90  68]\n",
      "Division: [0.875      1.         1.05555556 2.5        4.25      ]\n",
      "Dot Product: 728\n",
      "Mean of A: 13.4\n",
      "Median of A: 15.0\n",
      "Std Dev of A: 5.953150426454887\n",
      "Variance of A: 35.440000000000005\n",
      "Max in B: 18 at index 2\n",
      "Min in B: 2 at index 1\n"
     ]
    }
   ],
   "source": [
    "# task 3\n",
    "\n",
    "import numpy as np\n",
    "A = np.random.randint(1, 21, 5)\n",
    "B = np.random.randint(1, 21, 5)\n",
    "\n",
    "print(\"Array A:\", A)\n",
    "print(\"Array B:\", B)\n",
    "\n",
    "print(\"Addition:\", A + B)\n",
    "print(\"Subtraction:\", A - B)\n",
    "print(\"Multiplication:\", A * B)\n",
    "print(\"Division:\", A / B)\n",
    "\n",
    "print(\"Dot Product:\", np.dot(A, B))\n",
    "\n",
    "print(\"Mean of A:\", np.mean(A))\n",
    "print(\"Median of A:\", np.median(A))\n",
    "print(\"Std Dev of A:\", np.std(A))\n",
    "print(\"Variance of A:\", np.var(A))\n",
    "\n",
    "print(\"Max in B:\", np.max(B), \"at index\", np.argmax(B))\n",
    "print(\"Min in B:\", np.min(B), \"at index\", np.argmin(B))"
   ]
  },
  {
   "cell_type": "code",
   "execution_count": 4,
   "id": "e13d9d21",
   "metadata": {},
   "outputs": [
    {
     "name": "stdout",
     "output_type": "stream",
     "text": [
      "Reshaped to 2D (4x3):\n",
      " [[ 1  2  3]\n",
      " [ 4  5  6]\n",
      " [ 7  8  9]\n",
      " [10 11 12]]\n",
      "\n",
      "Reshaped to 3D (2x2x3):\n",
      " [[[ 1  2  3]\n",
      "  [ 4  5  6]]\n",
      "\n",
      " [[ 7  8  9]\n",
      "  [10 11 12]]]\n",
      "\n",
      "Transposed 2D array:\n",
      " [[ 1  4  7 10]\n",
      " [ 2  5  8 11]\n",
      " [ 3  6  9 12]]\n",
      "Transposed shape: (3, 4)\n"
     ]
    }
   ],
   "source": [
    "# task 4\n",
    "\n",
    "import numpy as np\n",
    "arr = np.arange(1, 13)\n",
    "\n",
    "reshaped_2d = arr.reshape(4, 3)\n",
    "print(\"Reshaped to 2D (4x3):\\n\", reshaped_2d)\n",
    "\n",
    "reshaped_3d = arr.reshape(2, 2, 3)\n",
    "print(\"\\nReshaped to 3D (2x2x3):\\n\", reshaped_3d)\n",
    "\n",
    "transposed = reshaped_2d.T\n",
    "print(\"\\nTransposed 2D array:\\n\", transposed)\n",
    "print(\"Transposed shape:\", transposed.shape)"
   ]
  },
  {
   "cell_type": "code",
   "execution_count": 5,
   "id": "eda236d2",
   "metadata": {},
   "outputs": [
    {
     "name": "stdout",
     "output_type": "stream",
     "text": [
      "Original Array: [30 21 25 36 49 17 42 20 36 47 46 11 30 32 12]\n",
      "Elements > 25: [30 36 49 42 36 47 46 30 32]\n",
      "Replaced <30 with 0: [30  0  0 36 49  0 42  0 36 47 46  0 30 32  0]\n",
      "Count divisible by 5: 8\n"
     ]
    }
   ],
   "source": [
    "# task 5\n",
    "\n",
    "import numpy as np\n",
    "arr = np.random.randint(10, 51, 15)\n",
    "print(\"Original Array:\", arr)\n",
    "\n",
    "print(\"Elements > 25:\", arr[arr > 25])\n",
    "\n",
    "arr[arr < 30] = 0\n",
    "print(\"Replaced <30 with 0:\", arr)\n",
    "\n",
    "count_div5 = np.sum(arr % 5 == 0)\n",
    "print(\"Count divisible by 5:\", count_div5)"
   ]
  },
  {
   "cell_type": "code",
   "execution_count": 6,
   "id": "749714d4",
   "metadata": {},
   "outputs": [
    {
     "name": "stdout",
     "output_type": "stream",
     "text": [
      "Equally spaced (0 to 1): [0.         0.11111111 0.22222222 0.33333333 0.44444444 0.55555556\n",
      " 0.66666667 0.77777778 0.88888889 1.        ]\n",
      "Identity Matrix (4x4):\n",
      " [[1. 0. 0. 0.]\n",
      " [0. 1. 0. 0.]\n",
      " [0. 0. 1. 0.]\n",
      " [0. 0. 0. 1.]]\n",
      "Sorted Array: [ 7 12 21 24 26 39 43 47 49 52 53 55 64 64 71 71 73 81 85 89]\n",
      "Top 5 elements: [71 73 81 85 89]\n"
     ]
    }
   ],
   "source": [
    "# task 6\n",
    "\n",
    "import numpy as np\n",
    "\n",
    "linspace_arr = np.linspace(0, 1, 10)\n",
    "print(\"Equally spaced (0 to 1):\", linspace_arr)\n",
    "\n",
    "identity = np.eye(4)\n",
    "print(\"Identity Matrix (4x4):\\n\", identity)\n",
    "\n",
    "rand_arr = np.random.randint(1, 101, 20)\n",
    "sorted_arr = np.sort(rand_arr)\n",
    "print(\"Sorted Array:\", sorted_arr)\n",
    "print(\"Top 5 elements:\", sorted_arr[-5:])"
   ]
  },
  {
   "cell_type": "code",
   "execution_count": 7,
   "id": "48a387cf",
   "metadata": {},
   "outputs": [
    {
     "name": "stdout",
     "output_type": "stream",
     "text": [
      "Determinant: -1.4648501153161726e+50\n",
      "Time taken: 0.0679783821105957 seconds\n"
     ]
    }
   ],
   "source": [
    "# task 7\n",
    "\n",
    "import time\n",
    "import numpy as np\n",
    "A = np.random.rand(100, 100)\n",
    "B = np.random.rand(100, 100)\n",
    "\n",
    "start_time = time.time()\n",
    "\n",
    "product = np.dot(A, B)\n",
    "try:\n",
    "    det = np.linalg.det(product)\n",
    "    inv = np.linalg.inv(product)\n",
    "    print(\"Determinant:\", det)\n",
    "except np.linalg.LinAlgError:\n",
    "    print(\"Matrix not invertible\")\n",
    "\n",
    "end_time = time.time()\n",
    "\n",
    "print(\"Time taken:\", end_time - start_time, \"seconds\")"
   ]
  },
  {
   "cell_type": "code",
   "execution_count": null,
   "id": "a5f3eedf",
   "metadata": {},
   "outputs": [],
   "source": []
  }
 ],
 "metadata": {
  "kernelspec": {
   "display_name": "Python 3",
   "language": "python",
   "name": "python3"
  },
  "language_info": {
   "codemirror_mode": {
    "name": "ipython",
    "version": 3
   },
   "file_extension": ".py",
   "mimetype": "text/x-python",
   "name": "python",
   "nbconvert_exporter": "python",
   "pygments_lexer": "ipython3",
   "version": "3.13.5"
  }
 },
 "nbformat": 4,
 "nbformat_minor": 5
}
